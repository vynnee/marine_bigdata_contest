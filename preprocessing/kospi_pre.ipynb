{
 "cells": [
  {
   "cell_type": "code",
   "execution_count": 1,
   "metadata": {},
   "outputs": [],
   "source": [
    "import pandas as pd\n",
    "import numpy as np\n",
    "import matplotlib.pyplot as plt\n",
    "import seaborn as sns\n",
    "from sklearn import preprocessing"
   ]
  },
  {
   "cell_type": "code",
   "execution_count": 2,
   "metadata": {},
   "outputs": [],
   "source": [
    "kospi = pd.read_csv('코스피 200 내역 (1).csv')"
   ]
  },
  {
   "cell_type": "code",
   "execution_count": 3,
   "metadata": {},
   "outputs": [
    {
     "data": {
      "text/html": [
       "<div>\n",
       "<style scoped>\n",
       "    .dataframe tbody tr th:only-of-type {\n",
       "        vertical-align: middle;\n",
       "    }\n",
       "\n",
       "    .dataframe tbody tr th {\n",
       "        vertical-align: top;\n",
       "    }\n",
       "\n",
       "    .dataframe thead th {\n",
       "        text-align: right;\n",
       "    }\n",
       "</style>\n",
       "<table border=\"1\" class=\"dataframe\">\n",
       "  <thead>\n",
       "    <tr style=\"text-align: right;\">\n",
       "      <th></th>\n",
       "      <th>날짜</th>\n",
       "      <th>종가</th>\n",
       "      <th>오픈</th>\n",
       "      <th>고가</th>\n",
       "      <th>저가</th>\n",
       "      <th>거래량</th>\n",
       "      <th>변동 %</th>\n",
       "    </tr>\n",
       "  </thead>\n",
       "  <tbody>\n",
       "    <tr>\n",
       "      <th>0</th>\n",
       "      <td>2014년 01월 02일</td>\n",
       "      <td>257.64</td>\n",
       "      <td>264.35</td>\n",
       "      <td>264.51</td>\n",
       "      <td>257.63</td>\n",
       "      <td>64.00K</td>\n",
       "      <td>-2.50%</td>\n",
       "    </tr>\n",
       "    <tr>\n",
       "      <th>1</th>\n",
       "      <td>2014년 01월 03일</td>\n",
       "      <td>254.48</td>\n",
       "      <td>257.05</td>\n",
       "      <td>257.29</td>\n",
       "      <td>253.18</td>\n",
       "      <td>62.39K</td>\n",
       "      <td>-1.23%</td>\n",
       "    </tr>\n",
       "    <tr>\n",
       "      <th>2</th>\n",
       "      <td>2014년 01월 06일</td>\n",
       "      <td>255.41</td>\n",
       "      <td>254.70</td>\n",
       "      <td>256.67</td>\n",
       "      <td>254.11</td>\n",
       "      <td>59.08K</td>\n",
       "      <td>0.37%</td>\n",
       "    </tr>\n",
       "    <tr>\n",
       "      <th>3</th>\n",
       "      <td>2014년 01월 07일</td>\n",
       "      <td>255.98</td>\n",
       "      <td>254.53</td>\n",
       "      <td>257.02</td>\n",
       "      <td>254.41</td>\n",
       "      <td>60.98K</td>\n",
       "      <td>0.22%</td>\n",
       "    </tr>\n",
       "    <tr>\n",
       "      <th>4</th>\n",
       "      <td>2014년 01월 08일</td>\n",
       "      <td>255.76</td>\n",
       "      <td>256.85</td>\n",
       "      <td>257.06</td>\n",
       "      <td>254.63</td>\n",
       "      <td>66.03K</td>\n",
       "      <td>-0.09%</td>\n",
       "    </tr>\n",
       "    <tr>\n",
       "      <th>...</th>\n",
       "      <td>...</td>\n",
       "      <td>...</td>\n",
       "      <td>...</td>\n",
       "      <td>...</td>\n",
       "      <td>...</td>\n",
       "      <td>...</td>\n",
       "      <td>...</td>\n",
       "    </tr>\n",
       "    <tr>\n",
       "      <th>1715</th>\n",
       "      <td>2020년 12월 23일</td>\n",
       "      <td>371.32</td>\n",
       "      <td>367.02</td>\n",
       "      <td>371.93</td>\n",
       "      <td>364.72</td>\n",
       "      <td>296.02M</td>\n",
       "      <td>1.33%</td>\n",
       "    </tr>\n",
       "    <tr>\n",
       "      <th>1716</th>\n",
       "      <td>2020년 12월 24일</td>\n",
       "      <td>379.18</td>\n",
       "      <td>371.67</td>\n",
       "      <td>380.29</td>\n",
       "      <td>371.67</td>\n",
       "      <td>314.37M</td>\n",
       "      <td>2.12%</td>\n",
       "    </tr>\n",
       "    <tr>\n",
       "      <th>1717</th>\n",
       "      <td>2020년 12월 28일</td>\n",
       "      <td>379.93</td>\n",
       "      <td>381.51</td>\n",
       "      <td>383.84</td>\n",
       "      <td>378.44</td>\n",
       "      <td>304.33M</td>\n",
       "      <td>0.20%</td>\n",
       "    </tr>\n",
       "    <tr>\n",
       "      <th>1718</th>\n",
       "      <td>2020년 12월 29일</td>\n",
       "      <td>381.27</td>\n",
       "      <td>380.34</td>\n",
       "      <td>382.31</td>\n",
       "      <td>377.04</td>\n",
       "      <td>234.72M</td>\n",
       "      <td>0.35%</td>\n",
       "    </tr>\n",
       "    <tr>\n",
       "      <th>1719</th>\n",
       "      <td>2020년 12월 30일</td>\n",
       "      <td>389.29</td>\n",
       "      <td>381.21</td>\n",
       "      <td>390.04</td>\n",
       "      <td>379.14</td>\n",
       "      <td>236.86M</td>\n",
       "      <td>2.10%</td>\n",
       "    </tr>\n",
       "  </tbody>\n",
       "</table>\n",
       "<p>1720 rows × 7 columns</p>\n",
       "</div>"
      ],
      "text/plain": [
       "                 날짜      종가      오픈      고가      저가      거래량    변동 %\n",
       "0     2014년 01월 02일  257.64  264.35  264.51  257.63   64.00K  -2.50%\n",
       "1     2014년 01월 03일  254.48  257.05  257.29  253.18   62.39K  -1.23%\n",
       "2     2014년 01월 06일  255.41  254.70  256.67  254.11   59.08K   0.37%\n",
       "3     2014년 01월 07일  255.98  254.53  257.02  254.41   60.98K   0.22%\n",
       "4     2014년 01월 08일  255.76  256.85  257.06  254.63   66.03K  -0.09%\n",
       "...             ...     ...     ...     ...     ...      ...     ...\n",
       "1715  2020년 12월 23일  371.32  367.02  371.93  364.72  296.02M   1.33%\n",
       "1716  2020년 12월 24일  379.18  371.67  380.29  371.67  314.37M   2.12%\n",
       "1717  2020년 12월 28일  379.93  381.51  383.84  378.44  304.33M   0.20%\n",
       "1718  2020년 12월 29일  381.27  380.34  382.31  377.04  234.72M   0.35%\n",
       "1719  2020년 12월 30일  389.29  381.21  390.04  379.14  236.86M   2.10%\n",
       "\n",
       "[1720 rows x 7 columns]"
      ]
     },
     "execution_count": 3,
     "metadata": {},
     "output_type": "execute_result"
    }
   ],
   "source": [
    "kospi = kospi.sort_values(by=['날짜']).reset_index(drop=True)\n",
    "kospi"
   ]
  },
  {
   "cell_type": "code",
   "execution_count": 4,
   "metadata": {},
   "outputs": [],
   "source": [
    "kospi['mean'] = (kospi['종가'] + kospi['오픈'] + kospi['고가'] + kospi['저가']) / 4"
   ]
  },
  {
   "cell_type": "code",
   "execution_count": 5,
   "metadata": {},
   "outputs": [
    {
     "data": {
      "text/html": [
       "<div>\n",
       "<style scoped>\n",
       "    .dataframe tbody tr th:only-of-type {\n",
       "        vertical-align: middle;\n",
       "    }\n",
       "\n",
       "    .dataframe tbody tr th {\n",
       "        vertical-align: top;\n",
       "    }\n",
       "\n",
       "    .dataframe thead th {\n",
       "        text-align: right;\n",
       "    }\n",
       "</style>\n",
       "<table border=\"1\" class=\"dataframe\">\n",
       "  <thead>\n",
       "    <tr style=\"text-align: right;\">\n",
       "      <th></th>\n",
       "      <th>날짜</th>\n",
       "      <th>종가</th>\n",
       "      <th>오픈</th>\n",
       "      <th>고가</th>\n",
       "      <th>저가</th>\n",
       "      <th>거래량</th>\n",
       "      <th>변동 %</th>\n",
       "      <th>mean</th>\n",
       "    </tr>\n",
       "  </thead>\n",
       "  <tbody>\n",
       "    <tr>\n",
       "      <th>0</th>\n",
       "      <td>2014년 01월 02일</td>\n",
       "      <td>257.64</td>\n",
       "      <td>264.35</td>\n",
       "      <td>264.51</td>\n",
       "      <td>257.63</td>\n",
       "      <td>64.00K</td>\n",
       "      <td>-2.50%</td>\n",
       "      <td>261.0325</td>\n",
       "    </tr>\n",
       "    <tr>\n",
       "      <th>1</th>\n",
       "      <td>2014년 01월 03일</td>\n",
       "      <td>254.48</td>\n",
       "      <td>257.05</td>\n",
       "      <td>257.29</td>\n",
       "      <td>253.18</td>\n",
       "      <td>62.39K</td>\n",
       "      <td>-1.23%</td>\n",
       "      <td>255.5000</td>\n",
       "    </tr>\n",
       "    <tr>\n",
       "      <th>2</th>\n",
       "      <td>2014년 01월 06일</td>\n",
       "      <td>255.41</td>\n",
       "      <td>254.70</td>\n",
       "      <td>256.67</td>\n",
       "      <td>254.11</td>\n",
       "      <td>59.08K</td>\n",
       "      <td>0.37%</td>\n",
       "      <td>255.2225</td>\n",
       "    </tr>\n",
       "    <tr>\n",
       "      <th>3</th>\n",
       "      <td>2014년 01월 07일</td>\n",
       "      <td>255.98</td>\n",
       "      <td>254.53</td>\n",
       "      <td>257.02</td>\n",
       "      <td>254.41</td>\n",
       "      <td>60.98K</td>\n",
       "      <td>0.22%</td>\n",
       "      <td>255.4850</td>\n",
       "    </tr>\n",
       "    <tr>\n",
       "      <th>4</th>\n",
       "      <td>2014년 01월 08일</td>\n",
       "      <td>255.76</td>\n",
       "      <td>256.85</td>\n",
       "      <td>257.06</td>\n",
       "      <td>254.63</td>\n",
       "      <td>66.03K</td>\n",
       "      <td>-0.09%</td>\n",
       "      <td>256.0750</td>\n",
       "    </tr>\n",
       "    <tr>\n",
       "      <th>...</th>\n",
       "      <td>...</td>\n",
       "      <td>...</td>\n",
       "      <td>...</td>\n",
       "      <td>...</td>\n",
       "      <td>...</td>\n",
       "      <td>...</td>\n",
       "      <td>...</td>\n",
       "      <td>...</td>\n",
       "    </tr>\n",
       "    <tr>\n",
       "      <th>1715</th>\n",
       "      <td>2020년 12월 23일</td>\n",
       "      <td>371.32</td>\n",
       "      <td>367.02</td>\n",
       "      <td>371.93</td>\n",
       "      <td>364.72</td>\n",
       "      <td>296.02M</td>\n",
       "      <td>1.33%</td>\n",
       "      <td>368.7475</td>\n",
       "    </tr>\n",
       "    <tr>\n",
       "      <th>1716</th>\n",
       "      <td>2020년 12월 24일</td>\n",
       "      <td>379.18</td>\n",
       "      <td>371.67</td>\n",
       "      <td>380.29</td>\n",
       "      <td>371.67</td>\n",
       "      <td>314.37M</td>\n",
       "      <td>2.12%</td>\n",
       "      <td>375.7025</td>\n",
       "    </tr>\n",
       "    <tr>\n",
       "      <th>1717</th>\n",
       "      <td>2020년 12월 28일</td>\n",
       "      <td>379.93</td>\n",
       "      <td>381.51</td>\n",
       "      <td>383.84</td>\n",
       "      <td>378.44</td>\n",
       "      <td>304.33M</td>\n",
       "      <td>0.20%</td>\n",
       "      <td>380.9300</td>\n",
       "    </tr>\n",
       "    <tr>\n",
       "      <th>1718</th>\n",
       "      <td>2020년 12월 29일</td>\n",
       "      <td>381.27</td>\n",
       "      <td>380.34</td>\n",
       "      <td>382.31</td>\n",
       "      <td>377.04</td>\n",
       "      <td>234.72M</td>\n",
       "      <td>0.35%</td>\n",
       "      <td>380.2400</td>\n",
       "    </tr>\n",
       "    <tr>\n",
       "      <th>1719</th>\n",
       "      <td>2020년 12월 30일</td>\n",
       "      <td>389.29</td>\n",
       "      <td>381.21</td>\n",
       "      <td>390.04</td>\n",
       "      <td>379.14</td>\n",
       "      <td>236.86M</td>\n",
       "      <td>2.10%</td>\n",
       "      <td>384.9200</td>\n",
       "    </tr>\n",
       "  </tbody>\n",
       "</table>\n",
       "<p>1720 rows × 8 columns</p>\n",
       "</div>"
      ],
      "text/plain": [
       "                 날짜      종가      오픈      고가      저가      거래량    변동 %      mean\n",
       "0     2014년 01월 02일  257.64  264.35  264.51  257.63   64.00K  -2.50%  261.0325\n",
       "1     2014년 01월 03일  254.48  257.05  257.29  253.18   62.39K  -1.23%  255.5000\n",
       "2     2014년 01월 06일  255.41  254.70  256.67  254.11   59.08K   0.37%  255.2225\n",
       "3     2014년 01월 07일  255.98  254.53  257.02  254.41   60.98K   0.22%  255.4850\n",
       "4     2014년 01월 08일  255.76  256.85  257.06  254.63   66.03K  -0.09%  256.0750\n",
       "...             ...     ...     ...     ...     ...      ...     ...       ...\n",
       "1715  2020년 12월 23일  371.32  367.02  371.93  364.72  296.02M   1.33%  368.7475\n",
       "1716  2020년 12월 24일  379.18  371.67  380.29  371.67  314.37M   2.12%  375.7025\n",
       "1717  2020년 12월 28일  379.93  381.51  383.84  378.44  304.33M   0.20%  380.9300\n",
       "1718  2020년 12월 29일  381.27  380.34  382.31  377.04  234.72M   0.35%  380.2400\n",
       "1719  2020년 12월 30일  389.29  381.21  390.04  379.14  236.86M   2.10%  384.9200\n",
       "\n",
       "[1720 rows x 8 columns]"
      ]
     },
     "execution_count": 5,
     "metadata": {},
     "output_type": "execute_result"
    }
   ],
   "source": [
    "kospi"
   ]
  },
  {
   "cell_type": "code",
   "execution_count": 6,
   "metadata": {},
   "outputs": [],
   "source": [
    "## 불필요한 columns 삭제\n",
    "drop_kospi = ['종가', '오픈', '고가', '저가', '거래량', '변동 %']\n",
    "kospi = kospi.drop(drop_kospi, axis=1)"
   ]
  },
  {
   "cell_type": "code",
   "execution_count": 7,
   "metadata": {},
   "outputs": [
    {
     "data": {
      "text/html": [
       "<div>\n",
       "<style scoped>\n",
       "    .dataframe tbody tr th:only-of-type {\n",
       "        vertical-align: middle;\n",
       "    }\n",
       "\n",
       "    .dataframe tbody tr th {\n",
       "        vertical-align: top;\n",
       "    }\n",
       "\n",
       "    .dataframe thead th {\n",
       "        text-align: right;\n",
       "    }\n",
       "</style>\n",
       "<table border=\"1\" class=\"dataframe\">\n",
       "  <thead>\n",
       "    <tr style=\"text-align: right;\">\n",
       "      <th></th>\n",
       "      <th>날짜</th>\n",
       "      <th>mean</th>\n",
       "    </tr>\n",
       "  </thead>\n",
       "  <tbody>\n",
       "    <tr>\n",
       "      <th>0</th>\n",
       "      <td>2014년 01월 02일</td>\n",
       "      <td>261.0325</td>\n",
       "    </tr>\n",
       "    <tr>\n",
       "      <th>1</th>\n",
       "      <td>2014년 01월 03일</td>\n",
       "      <td>255.5000</td>\n",
       "    </tr>\n",
       "    <tr>\n",
       "      <th>2</th>\n",
       "      <td>2014년 01월 06일</td>\n",
       "      <td>255.2225</td>\n",
       "    </tr>\n",
       "    <tr>\n",
       "      <th>3</th>\n",
       "      <td>2014년 01월 07일</td>\n",
       "      <td>255.4850</td>\n",
       "    </tr>\n",
       "    <tr>\n",
       "      <th>4</th>\n",
       "      <td>2014년 01월 08일</td>\n",
       "      <td>256.0750</td>\n",
       "    </tr>\n",
       "    <tr>\n",
       "      <th>...</th>\n",
       "      <td>...</td>\n",
       "      <td>...</td>\n",
       "    </tr>\n",
       "    <tr>\n",
       "      <th>1715</th>\n",
       "      <td>2020년 12월 23일</td>\n",
       "      <td>368.7475</td>\n",
       "    </tr>\n",
       "    <tr>\n",
       "      <th>1716</th>\n",
       "      <td>2020년 12월 24일</td>\n",
       "      <td>375.7025</td>\n",
       "    </tr>\n",
       "    <tr>\n",
       "      <th>1717</th>\n",
       "      <td>2020년 12월 28일</td>\n",
       "      <td>380.9300</td>\n",
       "    </tr>\n",
       "    <tr>\n",
       "      <th>1718</th>\n",
       "      <td>2020년 12월 29일</td>\n",
       "      <td>380.2400</td>\n",
       "    </tr>\n",
       "    <tr>\n",
       "      <th>1719</th>\n",
       "      <td>2020년 12월 30일</td>\n",
       "      <td>384.9200</td>\n",
       "    </tr>\n",
       "  </tbody>\n",
       "</table>\n",
       "<p>1720 rows × 2 columns</p>\n",
       "</div>"
      ],
      "text/plain": [
       "                 날짜      mean\n",
       "0     2014년 01월 02일  261.0325\n",
       "1     2014년 01월 03일  255.5000\n",
       "2     2014년 01월 06일  255.2225\n",
       "3     2014년 01월 07일  255.4850\n",
       "4     2014년 01월 08일  256.0750\n",
       "...             ...       ...\n",
       "1715  2020년 12월 23일  368.7475\n",
       "1716  2020년 12월 24일  375.7025\n",
       "1717  2020년 12월 28일  380.9300\n",
       "1718  2020년 12월 29일  380.2400\n",
       "1719  2020년 12월 30일  384.9200\n",
       "\n",
       "[1720 rows x 2 columns]"
      ]
     },
     "execution_count": 7,
     "metadata": {},
     "output_type": "execute_result"
    }
   ],
   "source": [
    "kospi"
   ]
  },
  {
   "cell_type": "code",
   "execution_count": 8,
   "metadata": {},
   "outputs": [
    {
     "name": "stdout",
     "output_type": "stream",
     "text": [
      "<class 'pandas.core.frame.DataFrame'>\n",
      "RangeIndex: 1720 entries, 0 to 1719\n",
      "Data columns (total 2 columns):\n",
      " #   Column  Non-Null Count  Dtype  \n",
      "---  ------  --------------  -----  \n",
      " 0   날짜      1720 non-null   object \n",
      " 1   mean    1720 non-null   float64\n",
      "dtypes: float64(1), object(1)\n",
      "memory usage: 27.0+ KB\n"
     ]
    }
   ],
   "source": [
    "# 결측치 없음\n",
    "kospi.info()"
   ]
  },
  {
   "cell_type": "code",
   "execution_count": 9,
   "metadata": {},
   "outputs": [
    {
     "data": {
      "text/html": [
       "<div>\n",
       "<style scoped>\n",
       "    .dataframe tbody tr th:only-of-type {\n",
       "        vertical-align: middle;\n",
       "    }\n",
       "\n",
       "    .dataframe tbody tr th {\n",
       "        vertical-align: top;\n",
       "    }\n",
       "\n",
       "    .dataframe thead th {\n",
       "        text-align: right;\n",
       "    }\n",
       "</style>\n",
       "<table border=\"1\" class=\"dataframe\">\n",
       "  <thead>\n",
       "    <tr style=\"text-align: right;\">\n",
       "      <th></th>\n",
       "      <th>mean</th>\n",
       "    </tr>\n",
       "  </thead>\n",
       "  <tbody>\n",
       "    <tr>\n",
       "      <th>count</th>\n",
       "      <td>1720.000000</td>\n",
       "    </tr>\n",
       "    <tr>\n",
       "      <th>mean</th>\n",
       "      <td>275.106390</td>\n",
       "    </tr>\n",
       "    <tr>\n",
       "      <th>std</th>\n",
       "      <td>29.786677</td>\n",
       "    </tr>\n",
       "    <tr>\n",
       "      <th>min</th>\n",
       "      <td>202.000000</td>\n",
       "    </tr>\n",
       "    <tr>\n",
       "      <th>25%</th>\n",
       "      <td>252.363125</td>\n",
       "    </tr>\n",
       "    <tr>\n",
       "      <th>50%</th>\n",
       "      <td>267.350000</td>\n",
       "    </tr>\n",
       "    <tr>\n",
       "      <th>75%</th>\n",
       "      <td>296.470000</td>\n",
       "    </tr>\n",
       "    <tr>\n",
       "      <th>max</th>\n",
       "      <td>384.920000</td>\n",
       "    </tr>\n",
       "  </tbody>\n",
       "</table>\n",
       "</div>"
      ],
      "text/plain": [
       "              mean\n",
       "count  1720.000000\n",
       "mean    275.106390\n",
       "std      29.786677\n",
       "min     202.000000\n",
       "25%     252.363125\n",
       "50%     267.350000\n",
       "75%     296.470000\n",
       "max     384.920000"
      ]
     },
     "execution_count": 9,
     "metadata": {},
     "output_type": "execute_result"
    }
   ],
   "source": [
    "kospi.describe()"
   ]
  },
  {
   "cell_type": "code",
   "execution_count": 10,
   "metadata": {},
   "outputs": [
    {
     "data": {
      "image/png": "[encoded data removed]",
      "text/plain": [
       "<Figure size 432x288 with 1 Axes>"
      ]
     },
     "metadata": {
      "needs_background": "light"
     },
     "output_type": "display_data"
    }
   ],
   "source": [
    "# 이상치 존재\n",
    "plt.boxplot(kospi['mean'])\n",
    "plt.show()"
   ]
  },
  {
   "cell_type": "code",
   "execution_count": 11,
   "metadata": {},
   "outputs": [
    {
     "data": {
      "text/plain": [
       "(array([  4.,  90., 489., 428., 241., 196., 205.,  41.,   9.,  17.]),\n",
       " array([202.   , 220.292, 238.584, 256.876, 275.168, 293.46 , 311.752,\n",
       "        330.044, 348.336, 366.628, 384.92 ]),\n",
       " <a list of 10 Patch objects>)"
      ]
     },
     "execution_count": 11,
     "metadata": {},
     "output_type": "execute_result"
    },
    {
     "data": {
      "image/png": "[encoded data removed]",
      "text/plain": [
       "<Figure size 432x288 with 1 Axes>"
      ]
     },
     "metadata": {
      "needs_background": "light"
     },
     "output_type": "display_data"
    }
   ],
   "source": [
    "# 왼쪽으로 쏠림 -> 정규성 만족 x\n",
    "plt.hist(kospi['mean'])"
   ]
  },
  {
   "cell_type": "code",
   "execution_count": 12,
   "metadata": {},
   "outputs": [
    {
     "data": {
      "text/plain": [
       "<matplotlib.axes._subplots.AxesSubplot at 0x249b1401108>"
      ]
     },
     "execution_count": 12,
     "metadata": {},
     "output_type": "execute_result"
    },
    {
     "data": {
      "image/png": "[encoded data removed]",
      "text/plain": [
       "<Figure size 432x288 with 1 Axes>"
      ]
     },
     "metadata": {
      "needs_background": "light"
     },
     "output_type": "display_data"
    }
   ],
   "source": [
    "sns.distplot(kospi['mean'])"
   ]
  },
  {
   "cell_type": "code",
   "execution_count": 13,
   "metadata": {},
   "outputs": [
    {
     "data": {
      "text/plain": [
       "0.7407013799233936"
      ]
     },
     "execution_count": 13,
     "metadata": {},
     "output_type": "execute_result"
    }
   ],
   "source": [
    "kospi['mean'].skew()"
   ]
  },
  {
   "cell_type": "code",
   "execution_count": 14,
   "metadata": {},
   "outputs": [
    {
     "data": {
      "text/plain": [
       "0.04681173993049814"
      ]
     },
     "execution_count": 14,
     "metadata": {},
     "output_type": "execute_result"
    }
   ],
   "source": [
    "kospi['mean'].kurt()"
   ]
  },
  {
   "cell_type": "code",
   "execution_count": 17,
   "metadata": {},
   "outputs": [],
   "source": [
    "# 제곱하면 skew가 더 커짐\n",
    "kospi_sqrt = (kospi['mean'])**2"
   ]
  },
  {
   "cell_type": "code",
   "execution_count": 18,
   "metadata": {},
   "outputs": [
    {
     "data": {
      "text/plain": [
       "0.9824264589377149"
      ]
     },
     "execution_count": 18,
     "metadata": {},
     "output_type": "execute_result"
    }
   ],
   "source": [
    "kospi_sqrt.skew()"
   ]
  },
  {
   "cell_type": "code",
   "execution_count": 19,
   "metadata": {},
   "outputs": [
    {
     "data": {
      "image/png": "[encoded data removed]",
      "text/plain": [
       "<Figure size 432x288 with 1 Axes>"
      ]
     },
     "metadata": {
      "needs_background": "light"
     },
     "output_type": "display_data"
    }
   ],
   "source": [
    "plt.boxplot(kospi_sqrt)\n",
    "plt.show()"
   ]
  },
  {
   "cell_type": "code",
   "execution_count": 20,
   "metadata": {},
   "outputs": [],
   "source": [
    "# 로그화히면 skew가 작아지므로 로그화 진행\n",
    "kospi_log = np.log1p(kospi['mean'])"
   ]
  },
  {
   "cell_type": "code",
   "execution_count": 21,
   "metadata": {},
   "outputs": [
    {
     "data": {
      "image/png": "[encoded data removed]",
      "text/plain": [
       "<Figure size 432x288 with 1 Axes>"
      ]
     },
     "metadata": {
      "needs_background": "light"
     },
     "output_type": "display_data"
    }
   ],
   "source": [
    "plt.boxplot(kospi_log)\n",
    "plt.show()"
   ]
  },
  {
   "cell_type": "code",
   "execution_count": 22,
   "metadata": {},
   "outputs": [
    {
     "data": {
      "text/plain": [
       "0.5192801667817702"
      ]
     },
     "execution_count": 22,
     "metadata": {},
     "output_type": "execute_result"
    }
   ],
   "source": [
    "kospi_log.skew()"
   ]
  },
  {
   "cell_type": "code",
   "execution_count": 23,
   "metadata": {},
   "outputs": [],
   "source": [
    "kospi['mean_log']= np.log1p(kospi['mean'])"
   ]
  },
  {
   "cell_type": "code",
   "execution_count": 24,
   "metadata": {},
   "outputs": [
    {
     "data": {
      "text/html": [
       "<div>\n",
       "<style scoped>\n",
       "    .dataframe tbody tr th:only-of-type {\n",
       "        vertical-align: middle;\n",
       "    }\n",
       "\n",
       "    .dataframe tbody tr th {\n",
       "        vertical-align: top;\n",
       "    }\n",
       "\n",
       "    .dataframe thead th {\n",
       "        text-align: right;\n",
       "    }\n",
       "</style>\n",
       "<table border=\"1\" class=\"dataframe\">\n",
       "  <thead>\n",
       "    <tr style=\"text-align: right;\">\n",
       "      <th></th>\n",
       "      <th>날짜</th>\n",
       "      <th>mean</th>\n",
       "      <th>mean_log</th>\n",
       "    </tr>\n",
       "  </thead>\n",
       "  <tbody>\n",
       "    <tr>\n",
       "      <th>0</th>\n",
       "      <td>2014년 01월 02일</td>\n",
       "      <td>261.0325</td>\n",
       "      <td>5.568469</td>\n",
       "    </tr>\n",
       "    <tr>\n",
       "      <th>1</th>\n",
       "      <td>2014년 01월 03일</td>\n",
       "      <td>255.5000</td>\n",
       "      <td>5.547129</td>\n",
       "    </tr>\n",
       "    <tr>\n",
       "      <th>2</th>\n",
       "      <td>2014년 01월 06일</td>\n",
       "      <td>255.2225</td>\n",
       "      <td>5.546046</td>\n",
       "    </tr>\n",
       "    <tr>\n",
       "      <th>3</th>\n",
       "      <td>2014년 01월 07일</td>\n",
       "      <td>255.4850</td>\n",
       "      <td>5.547070</td>\n",
       "    </tr>\n",
       "    <tr>\n",
       "      <th>4</th>\n",
       "      <td>2014년 01월 08일</td>\n",
       "      <td>256.0750</td>\n",
       "      <td>5.549368</td>\n",
       "    </tr>\n",
       "    <tr>\n",
       "      <th>...</th>\n",
       "      <td>...</td>\n",
       "      <td>...</td>\n",
       "      <td>...</td>\n",
       "    </tr>\n",
       "    <tr>\n",
       "      <th>1715</th>\n",
       "      <td>2020년 12월 23일</td>\n",
       "      <td>368.7475</td>\n",
       "      <td>5.912820</td>\n",
       "    </tr>\n",
       "    <tr>\n",
       "      <th>1716</th>\n",
       "      <td>2020년 12월 24일</td>\n",
       "      <td>375.7025</td>\n",
       "      <td>5.931456</td>\n",
       "    </tr>\n",
       "    <tr>\n",
       "      <th>1717</th>\n",
       "      <td>2020년 12월 28일</td>\n",
       "      <td>380.9300</td>\n",
       "      <td>5.945237</td>\n",
       "    </tr>\n",
       "    <tr>\n",
       "      <th>1718</th>\n",
       "      <td>2020년 12월 29일</td>\n",
       "      <td>380.2400</td>\n",
       "      <td>5.943429</td>\n",
       "    </tr>\n",
       "    <tr>\n",
       "      <th>1719</th>\n",
       "      <td>2020년 12월 30일</td>\n",
       "      <td>384.9200</td>\n",
       "      <td>5.955630</td>\n",
       "    </tr>\n",
       "  </tbody>\n",
       "</table>\n",
       "<p>1720 rows × 3 columns</p>\n",
       "</div>"
      ],
      "text/plain": [
       "                 날짜      mean  mean_log\n",
       "0     2014년 01월 02일  261.0325  5.568469\n",
       "1     2014년 01월 03일  255.5000  5.547129\n",
       "2     2014년 01월 06일  255.2225  5.546046\n",
       "3     2014년 01월 07일  255.4850  5.547070\n",
       "4     2014년 01월 08일  256.0750  5.549368\n",
       "...             ...       ...       ...\n",
       "1715  2020년 12월 23일  368.7475  5.912820\n",
       "1716  2020년 12월 24일  375.7025  5.931456\n",
       "1717  2020년 12월 28일  380.9300  5.945237\n",
       "1718  2020년 12월 29일  380.2400  5.943429\n",
       "1719  2020년 12월 30일  384.9200  5.955630\n",
       "\n",
       "[1720 rows x 3 columns]"
      ]
     },
     "execution_count": 24,
     "metadata": {},
     "output_type": "execute_result"
    }
   ],
   "source": [
    "kospi"
   ]
  },
  {
   "cell_type": "code",
   "execution_count": 26,
   "metadata": {},
   "outputs": [],
   "source": [
    "kospi.to_csv(r\"kospi.csv\")"
   ]
  }
 ],
 "metadata": {
  "kernelspec": {
   "display_name": "Python 3",
   "language": "python",
   "name": "python3"
  },
  "language_info": {
   "codemirror_mode": {
    "name": "ipython",
    "version": 3
   },
   "file_extension": ".py",
   "mimetype": "text/x-python",
   "name": "python",
   "nbconvert_exporter": "python",
   "pygments_lexer": "ipython3",
   "version": "3.7.6"
  }
 },
 "nbformat": 4,
 "nbformat_minor": 4
}
