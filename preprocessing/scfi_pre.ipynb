{
 "cells": [
  {
   "cell_type": "code",
   "execution_count": 1,
   "metadata": {},
   "outputs": [],
   "source": [
    "import pandas as pd\n",
    "import numpy as np\n",
    "import matplotlib.pyplot as plt\n",
    "import seaborn as sns\n",
    "from sklearn import preprocessing\n",
    "from scipy.stats import boxcox"
   ]
  },
  {
   "cell_type": "code",
   "execution_count": 2,
   "metadata": {},
   "outputs": [],
   "source": [
    "scfi = pd.read_csv('scfi.csv')"
   ]
  },
  {
   "cell_type": "code",
   "execution_count": 3,
   "metadata": {
    "scrolled": true
   },
   "outputs": [
    {
     "data": {
      "text/html": [
       "<div>\n",
       "<style scoped>\n",
       "    .dataframe tbody tr th:only-of-type {\n",
       "        vertical-align: middle;\n",
       "    }\n",
       "\n",
       "    .dataframe tbody tr th {\n",
       "        vertical-align: top;\n",
       "    }\n",
       "\n",
       "    .dataframe thead th {\n",
       "        text-align: right;\n",
       "    }\n",
       "</style>\n",
       "<table border=\"1\" class=\"dataframe\">\n",
       "  <thead>\n",
       "    <tr style=\"text-align: right;\">\n",
       "      <th></th>\n",
       "      <th>0</th>\n",
       "      <th>1</th>\n",
       "      <th>2</th>\n",
       "    </tr>\n",
       "  </thead>\n",
       "  <tbody>\n",
       "    <tr>\n",
       "      <th>Date</th>\n",
       "      <td>ALL</td>\n",
       "      <td>CCFI</td>\n",
       "      <td>SCFI</td>\n",
       "    </tr>\n",
       "    <tr>\n",
       "      <th>2014</th>\n",
       "      <td>01월 02일</td>\n",
       "      <td>1098.37</td>\n",
       "      <td>1176.12</td>\n",
       "    </tr>\n",
       "    <tr>\n",
       "      <th>2014.1</th>\n",
       "      <td>01월 09일</td>\n",
       "      <td>1115.55</td>\n",
       "      <td>1167.53</td>\n",
       "    </tr>\n",
       "    <tr>\n",
       "      <th>2014.2</th>\n",
       "      <td>01월 16일</td>\n",
       "      <td>1128.73</td>\n",
       "      <td>1188.44</td>\n",
       "    </tr>\n",
       "    <tr>\n",
       "      <th>2014.3</th>\n",
       "      <td>01월 23일</td>\n",
       "      <td>1148.37</td>\n",
       "      <td>1173.99</td>\n",
       "    </tr>\n",
       "    <tr>\n",
       "      <th>...</th>\n",
       "      <td>...</td>\n",
       "      <td>...</td>\n",
       "      <td>...</td>\n",
       "    </tr>\n",
       "    <tr>\n",
       "      <th>2021.28</th>\n",
       "      <td>07월 23일</td>\n",
       "      <td>2854.02</td>\n",
       "      <td>4100</td>\n",
       "    </tr>\n",
       "    <tr>\n",
       "      <th>2021.29</th>\n",
       "      <td>07월 30일</td>\n",
       "      <td>2930.03</td>\n",
       "      <td>4196.24</td>\n",
       "    </tr>\n",
       "    <tr>\n",
       "      <th>2021.30</th>\n",
       "      <td>08월 06일</td>\n",
       "      <td>3006.82</td>\n",
       "      <td>4225.86</td>\n",
       "    </tr>\n",
       "    <tr>\n",
       "      <th>2021.31</th>\n",
       "      <td>08월 13일</td>\n",
       "      <td>2978.47</td>\n",
       "      <td>4281.53</td>\n",
       "    </tr>\n",
       "    <tr>\n",
       "      <th>2021.32</th>\n",
       "      <td>08월 20일</td>\n",
       "      <td>3047.32</td>\n",
       "      <td>4340.18</td>\n",
       "    </tr>\n",
       "  </tbody>\n",
       "</table>\n",
       "<p>391 rows × 3 columns</p>\n",
       "</div>"
      ],
      "text/plain": [
       "               0        1        2\n",
       "Date         ALL     CCFI     SCFI\n",
       "2014     01월 02일  1098.37  1176.12\n",
       "2014.1   01월 09일  1115.55  1167.53\n",
       "2014.2   01월 16일  1128.73  1188.44\n",
       "2014.3   01월 23일  1148.37  1173.99\n",
       "...          ...      ...      ...\n",
       "2021.28  07월 23일  2854.02     4100\n",
       "2021.29  07월 30일  2930.03  4196.24\n",
       "2021.30  08월 06일  3006.82  4225.86\n",
       "2021.31  08월 13일  2978.47  4281.53\n",
       "2021.32  08월 20일  3047.32  4340.18\n",
       "\n",
       "[391 rows x 3 columns]"
      ]
     },
     "execution_count": 3,
     "metadata": {},
     "output_type": "execute_result"
    }
   ],
   "source": [
    "# transpose\n",
    "scfi = scfi.transpose()\n",
    "scfi"
   ]
  },
  {
   "cell_type": "code",
   "execution_count": 4,
   "metadata": {},
   "outputs": [
    {
     "data": {
      "text/html": [
       "<div>\n",
       "<style scoped>\n",
       "    .dataframe tbody tr th:only-of-type {\n",
       "        vertical-align: middle;\n",
       "    }\n",
       "\n",
       "    .dataframe tbody tr th {\n",
       "        vertical-align: top;\n",
       "    }\n",
       "\n",
       "    .dataframe thead th {\n",
       "        text-align: right;\n",
       "    }\n",
       "</style>\n",
       "<table border=\"1\" class=\"dataframe\">\n",
       "  <thead>\n",
       "    <tr style=\"text-align: right;\">\n",
       "      <th></th>\n",
       "      <th>index</th>\n",
       "      <th>0</th>\n",
       "      <th>1</th>\n",
       "      <th>2</th>\n",
       "    </tr>\n",
       "  </thead>\n",
       "  <tbody>\n",
       "    <tr>\n",
       "      <th>0</th>\n",
       "      <td>Date</td>\n",
       "      <td>ALL</td>\n",
       "      <td>CCFI</td>\n",
       "      <td>SCFI</td>\n",
       "    </tr>\n",
       "    <tr>\n",
       "      <th>1</th>\n",
       "      <td>2014</td>\n",
       "      <td>01월 02일</td>\n",
       "      <td>1098.37</td>\n",
       "      <td>1176.12</td>\n",
       "    </tr>\n",
       "    <tr>\n",
       "      <th>2</th>\n",
       "      <td>2014.1</td>\n",
       "      <td>01월 09일</td>\n",
       "      <td>1115.55</td>\n",
       "      <td>1167.53</td>\n",
       "    </tr>\n",
       "    <tr>\n",
       "      <th>3</th>\n",
       "      <td>2014.2</td>\n",
       "      <td>01월 16일</td>\n",
       "      <td>1128.73</td>\n",
       "      <td>1188.44</td>\n",
       "    </tr>\n",
       "    <tr>\n",
       "      <th>4</th>\n",
       "      <td>2014.3</td>\n",
       "      <td>01월 23일</td>\n",
       "      <td>1148.37</td>\n",
       "      <td>1173.99</td>\n",
       "    </tr>\n",
       "    <tr>\n",
       "      <th>...</th>\n",
       "      <td>...</td>\n",
       "      <td>...</td>\n",
       "      <td>...</td>\n",
       "      <td>...</td>\n",
       "    </tr>\n",
       "    <tr>\n",
       "      <th>386</th>\n",
       "      <td>2021.28</td>\n",
       "      <td>07월 23일</td>\n",
       "      <td>2854.02</td>\n",
       "      <td>4100</td>\n",
       "    </tr>\n",
       "    <tr>\n",
       "      <th>387</th>\n",
       "      <td>2021.29</td>\n",
       "      <td>07월 30일</td>\n",
       "      <td>2930.03</td>\n",
       "      <td>4196.24</td>\n",
       "    </tr>\n",
       "    <tr>\n",
       "      <th>388</th>\n",
       "      <td>2021.30</td>\n",
       "      <td>08월 06일</td>\n",
       "      <td>3006.82</td>\n",
       "      <td>4225.86</td>\n",
       "    </tr>\n",
       "    <tr>\n",
       "      <th>389</th>\n",
       "      <td>2021.31</td>\n",
       "      <td>08월 13일</td>\n",
       "      <td>2978.47</td>\n",
       "      <td>4281.53</td>\n",
       "    </tr>\n",
       "    <tr>\n",
       "      <th>390</th>\n",
       "      <td>2021.32</td>\n",
       "      <td>08월 20일</td>\n",
       "      <td>3047.32</td>\n",
       "      <td>4340.18</td>\n",
       "    </tr>\n",
       "  </tbody>\n",
       "</table>\n",
       "<p>391 rows × 4 columns</p>\n",
       "</div>"
      ],
      "text/plain": [
       "       index        0        1        2\n",
       "0       Date      ALL     CCFI     SCFI\n",
       "1       2014  01월 02일  1098.37  1176.12\n",
       "2     2014.1  01월 09일  1115.55  1167.53\n",
       "3     2014.2  01월 16일  1128.73  1188.44\n",
       "4     2014.3  01월 23일  1148.37  1173.99\n",
       "..       ...      ...      ...      ...\n",
       "386  2021.28  07월 23일  2854.02     4100\n",
       "387  2021.29  07월 30일  2930.03  4196.24\n",
       "388  2021.30  08월 06일  3006.82  4225.86\n",
       "389  2021.31  08월 13일  2978.47  4281.53\n",
       "390  2021.32  08월 20일  3047.32  4340.18\n",
       "\n",
       "[391 rows x 4 columns]"
      ]
     },
     "execution_count": 4,
     "metadata": {},
     "output_type": "execute_result"
    }
   ],
   "source": [
    "# index reset\n",
    "scfi = scfi.reset_index()\n",
    "scfi"
   ]
  },
  {
   "cell_type": "code",
   "execution_count": 5,
   "metadata": {},
   "outputs": [
    {
     "data": {
      "text/html": [
       "<div>\n",
       "<style scoped>\n",
       "    .dataframe tbody tr th:only-of-type {\n",
       "        vertical-align: middle;\n",
       "    }\n",
       "\n",
       "    .dataframe tbody tr th {\n",
       "        vertical-align: top;\n",
       "    }\n",
       "\n",
       "    .dataframe thead th {\n",
       "        text-align: right;\n",
       "    }\n",
       "</style>\n",
       "<table border=\"1\" class=\"dataframe\">\n",
       "  <thead>\n",
       "    <tr style=\"text-align: right;\">\n",
       "      <th></th>\n",
       "      <th>index</th>\n",
       "      <th>0</th>\n",
       "      <th>1</th>\n",
       "      <th>2</th>\n",
       "    </tr>\n",
       "  </thead>\n",
       "  <tbody>\n",
       "    <tr>\n",
       "      <th>1</th>\n",
       "      <td>2014</td>\n",
       "      <td>01월 02일</td>\n",
       "      <td>1098.37</td>\n",
       "      <td>1176.12</td>\n",
       "    </tr>\n",
       "    <tr>\n",
       "      <th>2</th>\n",
       "      <td>2014.1</td>\n",
       "      <td>01월 09일</td>\n",
       "      <td>1115.55</td>\n",
       "      <td>1167.53</td>\n",
       "    </tr>\n",
       "    <tr>\n",
       "      <th>3</th>\n",
       "      <td>2014.2</td>\n",
       "      <td>01월 16일</td>\n",
       "      <td>1128.73</td>\n",
       "      <td>1188.44</td>\n",
       "    </tr>\n",
       "    <tr>\n",
       "      <th>4</th>\n",
       "      <td>2014.3</td>\n",
       "      <td>01월 23일</td>\n",
       "      <td>1148.37</td>\n",
       "      <td>1173.99</td>\n",
       "    </tr>\n",
       "    <tr>\n",
       "      <th>5</th>\n",
       "      <td>2014.4</td>\n",
       "      <td>01월 30일</td>\n",
       "      <td>1158.16</td>\n",
       "      <td>1168.25</td>\n",
       "    </tr>\n",
       "    <tr>\n",
       "      <th>...</th>\n",
       "      <td>...</td>\n",
       "      <td>...</td>\n",
       "      <td>...</td>\n",
       "      <td>...</td>\n",
       "    </tr>\n",
       "    <tr>\n",
       "      <th>386</th>\n",
       "      <td>2021.28</td>\n",
       "      <td>07월 23일</td>\n",
       "      <td>2854.02</td>\n",
       "      <td>4100</td>\n",
       "    </tr>\n",
       "    <tr>\n",
       "      <th>387</th>\n",
       "      <td>2021.29</td>\n",
       "      <td>07월 30일</td>\n",
       "      <td>2930.03</td>\n",
       "      <td>4196.24</td>\n",
       "    </tr>\n",
       "    <tr>\n",
       "      <th>388</th>\n",
       "      <td>2021.30</td>\n",
       "      <td>08월 06일</td>\n",
       "      <td>3006.82</td>\n",
       "      <td>4225.86</td>\n",
       "    </tr>\n",
       "    <tr>\n",
       "      <th>389</th>\n",
       "      <td>2021.31</td>\n",
       "      <td>08월 13일</td>\n",
       "      <td>2978.47</td>\n",
       "      <td>4281.53</td>\n",
       "    </tr>\n",
       "    <tr>\n",
       "      <th>390</th>\n",
       "      <td>2021.32</td>\n",
       "      <td>08월 20일</td>\n",
       "      <td>3047.32</td>\n",
       "      <td>4340.18</td>\n",
       "    </tr>\n",
       "  </tbody>\n",
       "</table>\n",
       "<p>390 rows × 4 columns</p>\n",
       "</div>"
      ],
      "text/plain": [
       "       index        0        1        2\n",
       "1       2014  01월 02일  1098.37  1176.12\n",
       "2     2014.1  01월 09일  1115.55  1167.53\n",
       "3     2014.2  01월 16일  1128.73  1188.44\n",
       "4     2014.3  01월 23일  1148.37  1173.99\n",
       "5     2014.4  01월 30일  1158.16  1168.25\n",
       "..       ...      ...      ...      ...\n",
       "386  2021.28  07월 23일  2854.02     4100\n",
       "387  2021.29  07월 30일  2930.03  4196.24\n",
       "388  2021.30  08월 06일  3006.82  4225.86\n",
       "389  2021.31  08월 13일  2978.47  4281.53\n",
       "390  2021.32  08월 20일  3047.32  4340.18\n",
       "\n",
       "[390 rows x 4 columns]"
      ]
     },
     "execution_count": 5,
     "metadata": {},
     "output_type": "execute_result"
    }
   ],
   "source": [
    "# 첫 번째 행 삭제\n",
    "scfi = scfi.drop([scfi.index[0]])\n",
    "scfi"
   ]
  },
  {
   "cell_type": "code",
   "execution_count": 6,
   "metadata": {},
   "outputs": [
    {
     "data": {
      "text/html": [
       "<div>\n",
       "<style scoped>\n",
       "    .dataframe tbody tr th:only-of-type {\n",
       "        vertical-align: middle;\n",
       "    }\n",
       "\n",
       "    .dataframe tbody tr th {\n",
       "        vertical-align: top;\n",
       "    }\n",
       "\n",
       "    .dataframe thead th {\n",
       "        text-align: right;\n",
       "    }\n",
       "</style>\n",
       "<table border=\"1\" class=\"dataframe\">\n",
       "  <thead>\n",
       "    <tr style=\"text-align: right;\">\n",
       "      <th></th>\n",
       "      <th>date1</th>\n",
       "      <th>date2</th>\n",
       "      <th>CCFI</th>\n",
       "      <th>SCFI</th>\n",
       "    </tr>\n",
       "  </thead>\n",
       "  <tbody>\n",
       "    <tr>\n",
       "      <th>1</th>\n",
       "      <td>2014</td>\n",
       "      <td>01월 02일</td>\n",
       "      <td>1098.37</td>\n",
       "      <td>1176.12</td>\n",
       "    </tr>\n",
       "    <tr>\n",
       "      <th>2</th>\n",
       "      <td>2014.1</td>\n",
       "      <td>01월 09일</td>\n",
       "      <td>1115.55</td>\n",
       "      <td>1167.53</td>\n",
       "    </tr>\n",
       "    <tr>\n",
       "      <th>3</th>\n",
       "      <td>2014.2</td>\n",
       "      <td>01월 16일</td>\n",
       "      <td>1128.73</td>\n",
       "      <td>1188.44</td>\n",
       "    </tr>\n",
       "    <tr>\n",
       "      <th>4</th>\n",
       "      <td>2014.3</td>\n",
       "      <td>01월 23일</td>\n",
       "      <td>1148.37</td>\n",
       "      <td>1173.99</td>\n",
       "    </tr>\n",
       "    <tr>\n",
       "      <th>5</th>\n",
       "      <td>2014.4</td>\n",
       "      <td>01월 30일</td>\n",
       "      <td>1158.16</td>\n",
       "      <td>1168.25</td>\n",
       "    </tr>\n",
       "    <tr>\n",
       "      <th>...</th>\n",
       "      <td>...</td>\n",
       "      <td>...</td>\n",
       "      <td>...</td>\n",
       "      <td>...</td>\n",
       "    </tr>\n",
       "    <tr>\n",
       "      <th>386</th>\n",
       "      <td>2021.28</td>\n",
       "      <td>07월 23일</td>\n",
       "      <td>2854.02</td>\n",
       "      <td>4100</td>\n",
       "    </tr>\n",
       "    <tr>\n",
       "      <th>387</th>\n",
       "      <td>2021.29</td>\n",
       "      <td>07월 30일</td>\n",
       "      <td>2930.03</td>\n",
       "      <td>4196.24</td>\n",
       "    </tr>\n",
       "    <tr>\n",
       "      <th>388</th>\n",
       "      <td>2021.30</td>\n",
       "      <td>08월 06일</td>\n",
       "      <td>3006.82</td>\n",
       "      <td>4225.86</td>\n",
       "    </tr>\n",
       "    <tr>\n",
       "      <th>389</th>\n",
       "      <td>2021.31</td>\n",
       "      <td>08월 13일</td>\n",
       "      <td>2978.47</td>\n",
       "      <td>4281.53</td>\n",
       "    </tr>\n",
       "    <tr>\n",
       "      <th>390</th>\n",
       "      <td>2021.32</td>\n",
       "      <td>08월 20일</td>\n",
       "      <td>3047.32</td>\n",
       "      <td>4340.18</td>\n",
       "    </tr>\n",
       "  </tbody>\n",
       "</table>\n",
       "<p>390 rows × 4 columns</p>\n",
       "</div>"
      ],
      "text/plain": [
       "       date1    date2     CCFI     SCFI\n",
       "1       2014  01월 02일  1098.37  1176.12\n",
       "2     2014.1  01월 09일  1115.55  1167.53\n",
       "3     2014.2  01월 16일  1128.73  1188.44\n",
       "4     2014.3  01월 23일  1148.37  1173.99\n",
       "5     2014.4  01월 30일  1158.16  1168.25\n",
       "..       ...      ...      ...      ...\n",
       "386  2021.28  07월 23일  2854.02     4100\n",
       "387  2021.29  07월 30일  2930.03  4196.24\n",
       "388  2021.30  08월 06일  3006.82  4225.86\n",
       "389  2021.31  08월 13일  2978.47  4281.53\n",
       "390  2021.32  08월 20일  3047.32  4340.18\n",
       "\n",
       "[390 rows x 4 columns]"
      ]
     },
     "execution_count": 6,
     "metadata": {},
     "output_type": "execute_result"
    }
   ],
   "source": [
    "# 칼럼 이름 변경\n",
    "scfi.rename(columns = {'index':'date1'}, inplace=True)\n",
    "scfi.rename(columns = {0:'date2'}, inplace=True)\n",
    "scfi.rename(columns = {1:'CCFI'}, inplace=True)\n",
    "scfi.rename(columns = {2:'SCFI'}, inplace=True)\n",
    "scfi"
   ]
  },
  {
   "cell_type": "code",
   "execution_count": 7,
   "metadata": {},
   "outputs": [],
   "source": [
    "scfi = scfi.reset_index(drop=True)"
   ]
  },
  {
   "cell_type": "code",
   "execution_count": 8,
   "metadata": {
    "scrolled": false
   },
   "outputs": [
    {
     "data": {
      "text/html": [
       "<div>\n",
       "<style scoped>\n",
       "    .dataframe tbody tr th:only-of-type {\n",
       "        vertical-align: middle;\n",
       "    }\n",
       "\n",
       "    .dataframe tbody tr th {\n",
       "        vertical-align: top;\n",
       "    }\n",
       "\n",
       "    .dataframe thead th {\n",
       "        text-align: right;\n",
       "    }\n",
       "</style>\n",
       "<table border=\"1\" class=\"dataframe\">\n",
       "  <thead>\n",
       "    <tr style=\"text-align: right;\">\n",
       "      <th></th>\n",
       "      <th>date1</th>\n",
       "      <th>date2</th>\n",
       "      <th>CCFI</th>\n",
       "      <th>SCFI</th>\n",
       "    </tr>\n",
       "  </thead>\n",
       "  <tbody>\n",
       "    <tr>\n",
       "      <th>0</th>\n",
       "      <td>2014</td>\n",
       "      <td>01월 02일</td>\n",
       "      <td>1098.37</td>\n",
       "      <td>1176.12</td>\n",
       "    </tr>\n",
       "    <tr>\n",
       "      <th>1</th>\n",
       "      <td>2014.1</td>\n",
       "      <td>01월 09일</td>\n",
       "      <td>1115.55</td>\n",
       "      <td>1167.53</td>\n",
       "    </tr>\n",
       "    <tr>\n",
       "      <th>2</th>\n",
       "      <td>2014.2</td>\n",
       "      <td>01월 16일</td>\n",
       "      <td>1128.73</td>\n",
       "      <td>1188.44</td>\n",
       "    </tr>\n",
       "    <tr>\n",
       "      <th>3</th>\n",
       "      <td>2014.3</td>\n",
       "      <td>01월 23일</td>\n",
       "      <td>1148.37</td>\n",
       "      <td>1173.99</td>\n",
       "    </tr>\n",
       "    <tr>\n",
       "      <th>4</th>\n",
       "      <td>2014.4</td>\n",
       "      <td>01월 30일</td>\n",
       "      <td>1158.16</td>\n",
       "      <td>1168.25</td>\n",
       "    </tr>\n",
       "    <tr>\n",
       "      <th>...</th>\n",
       "      <td>...</td>\n",
       "      <td>...</td>\n",
       "      <td>...</td>\n",
       "      <td>...</td>\n",
       "    </tr>\n",
       "    <tr>\n",
       "      <th>385</th>\n",
       "      <td>2021.28</td>\n",
       "      <td>07월 23일</td>\n",
       "      <td>2854.02</td>\n",
       "      <td>4100</td>\n",
       "    </tr>\n",
       "    <tr>\n",
       "      <th>386</th>\n",
       "      <td>2021.29</td>\n",
       "      <td>07월 30일</td>\n",
       "      <td>2930.03</td>\n",
       "      <td>4196.24</td>\n",
       "    </tr>\n",
       "    <tr>\n",
       "      <th>387</th>\n",
       "      <td>2021.30</td>\n",
       "      <td>08월 06일</td>\n",
       "      <td>3006.82</td>\n",
       "      <td>4225.86</td>\n",
       "    </tr>\n",
       "    <tr>\n",
       "      <th>388</th>\n",
       "      <td>2021.31</td>\n",
       "      <td>08월 13일</td>\n",
       "      <td>2978.47</td>\n",
       "      <td>4281.53</td>\n",
       "    </tr>\n",
       "    <tr>\n",
       "      <th>389</th>\n",
       "      <td>2021.32</td>\n",
       "      <td>08월 20일</td>\n",
       "      <td>3047.32</td>\n",
       "      <td>4340.18</td>\n",
       "    </tr>\n",
       "  </tbody>\n",
       "</table>\n",
       "<p>390 rows × 4 columns</p>\n",
       "</div>"
      ],
      "text/plain": [
       "       date1    date2     CCFI     SCFI\n",
       "0       2014  01월 02일  1098.37  1176.12\n",
       "1     2014.1  01월 09일  1115.55  1167.53\n",
       "2     2014.2  01월 16일  1128.73  1188.44\n",
       "3     2014.3  01월 23일  1148.37  1173.99\n",
       "4     2014.4  01월 30일  1158.16  1168.25\n",
       "..       ...      ...      ...      ...\n",
       "385  2021.28  07월 23일  2854.02     4100\n",
       "386  2021.29  07월 30일  2930.03  4196.24\n",
       "387  2021.30  08월 06일  3006.82  4225.86\n",
       "388  2021.31  08월 13일  2978.47  4281.53\n",
       "389  2021.32  08월 20일  3047.32  4340.18\n",
       "\n",
       "[390 rows x 4 columns]"
      ]
     },
     "execution_count": 8,
     "metadata": {},
     "output_type": "execute_result"
    }
   ],
   "source": [
    "scfi"
   ]
  },
  {
   "cell_type": "code",
   "execution_count": 9,
   "metadata": {},
   "outputs": [],
   "source": [
    "for i in range(4, 10):\n",
    "    for j in range(1, 60):\n",
    "        scfi['date1'] = scfi['date1'].replace('201%d.%d'%(i,j), '201%d년'%(i))\n",
    "\n",
    "for i in range(4, 10):\n",
    "        scfi['date1'] = scfi['date1'].replace('201%d'%(i), '201%d년'%(i))\n",
    "        \n",
    "for i in range(0, 2):\n",
    "    for j in range(1, 60):\n",
    "        scfi['date1'] = scfi['date1'].replace('202%d.%d'%(i,j), '202%d년'%(i))\n",
    "\n",
    "for i in range(0, 2):\n",
    "        scfi['date1'] = scfi['date1'].replace('202%d'%(i), '202%d년'%(i))"
   ]
  },
  {
   "cell_type": "code",
   "execution_count": 10,
   "metadata": {},
   "outputs": [
    {
     "data": {
      "text/html": [
       "<div>\n",
       "<style scoped>\n",
       "    .dataframe tbody tr th:only-of-type {\n",
       "        vertical-align: middle;\n",
       "    }\n",
       "\n",
       "    .dataframe tbody tr th {\n",
       "        vertical-align: top;\n",
       "    }\n",
       "\n",
       "    .dataframe thead th {\n",
       "        text-align: right;\n",
       "    }\n",
       "</style>\n",
       "<table border=\"1\" class=\"dataframe\">\n",
       "  <thead>\n",
       "    <tr style=\"text-align: right;\">\n",
       "      <th></th>\n",
       "      <th>date1</th>\n",
       "      <th>date2</th>\n",
       "      <th>CCFI</th>\n",
       "      <th>SCFI</th>\n",
       "    </tr>\n",
       "  </thead>\n",
       "  <tbody>\n",
       "    <tr>\n",
       "      <th>0</th>\n",
       "      <td>2014년</td>\n",
       "      <td>01월 02일</td>\n",
       "      <td>1098.37</td>\n",
       "      <td>1176.12</td>\n",
       "    </tr>\n",
       "    <tr>\n",
       "      <th>1</th>\n",
       "      <td>2014년</td>\n",
       "      <td>01월 09일</td>\n",
       "      <td>1115.55</td>\n",
       "      <td>1167.53</td>\n",
       "    </tr>\n",
       "    <tr>\n",
       "      <th>2</th>\n",
       "      <td>2014년</td>\n",
       "      <td>01월 16일</td>\n",
       "      <td>1128.73</td>\n",
       "      <td>1188.44</td>\n",
       "    </tr>\n",
       "    <tr>\n",
       "      <th>3</th>\n",
       "      <td>2014년</td>\n",
       "      <td>01월 23일</td>\n",
       "      <td>1148.37</td>\n",
       "      <td>1173.99</td>\n",
       "    </tr>\n",
       "    <tr>\n",
       "      <th>4</th>\n",
       "      <td>2014년</td>\n",
       "      <td>01월 30일</td>\n",
       "      <td>1158.16</td>\n",
       "      <td>1168.25</td>\n",
       "    </tr>\n",
       "    <tr>\n",
       "      <th>...</th>\n",
       "      <td>...</td>\n",
       "      <td>...</td>\n",
       "      <td>...</td>\n",
       "      <td>...</td>\n",
       "    </tr>\n",
       "    <tr>\n",
       "      <th>385</th>\n",
       "      <td>2021년</td>\n",
       "      <td>07월 23일</td>\n",
       "      <td>2854.02</td>\n",
       "      <td>4100</td>\n",
       "    </tr>\n",
       "    <tr>\n",
       "      <th>386</th>\n",
       "      <td>2021년</td>\n",
       "      <td>07월 30일</td>\n",
       "      <td>2930.03</td>\n",
       "      <td>4196.24</td>\n",
       "    </tr>\n",
       "    <tr>\n",
       "      <th>387</th>\n",
       "      <td>2021년</td>\n",
       "      <td>08월 06일</td>\n",
       "      <td>3006.82</td>\n",
       "      <td>4225.86</td>\n",
       "    </tr>\n",
       "    <tr>\n",
       "      <th>388</th>\n",
       "      <td>2021년</td>\n",
       "      <td>08월 13일</td>\n",
       "      <td>2978.47</td>\n",
       "      <td>4281.53</td>\n",
       "    </tr>\n",
       "    <tr>\n",
       "      <th>389</th>\n",
       "      <td>2021년</td>\n",
       "      <td>08월 20일</td>\n",
       "      <td>3047.32</td>\n",
       "      <td>4340.18</td>\n",
       "    </tr>\n",
       "  </tbody>\n",
       "</table>\n",
       "<p>390 rows × 4 columns</p>\n",
       "</div>"
      ],
      "text/plain": [
       "     date1    date2     CCFI     SCFI\n",
       "0    2014년  01월 02일  1098.37  1176.12\n",
       "1    2014년  01월 09일  1115.55  1167.53\n",
       "2    2014년  01월 16일  1128.73  1188.44\n",
       "3    2014년  01월 23일  1148.37  1173.99\n",
       "4    2014년  01월 30일  1158.16  1168.25\n",
       "..     ...      ...      ...      ...\n",
       "385  2021년  07월 23일  2854.02     4100\n",
       "386  2021년  07월 30일  2930.03  4196.24\n",
       "387  2021년  08월 06일  3006.82  4225.86\n",
       "388  2021년  08월 13일  2978.47  4281.53\n",
       "389  2021년  08월 20일  3047.32  4340.18\n",
       "\n",
       "[390 rows x 4 columns]"
      ]
     },
     "execution_count": 10,
     "metadata": {},
     "output_type": "execute_result"
    }
   ],
   "source": [
    "scfi"
   ]
  },
  {
   "cell_type": "code",
   "execution_count": 11,
   "metadata": {},
   "outputs": [
    {
     "data": {
      "text/html": [
       "<div>\n",
       "<style scoped>\n",
       "    .dataframe tbody tr th:only-of-type {\n",
       "        vertical-align: middle;\n",
       "    }\n",
       "\n",
       "    .dataframe tbody tr th {\n",
       "        vertical-align: top;\n",
       "    }\n",
       "\n",
       "    .dataframe thead th {\n",
       "        text-align: right;\n",
       "    }\n",
       "</style>\n",
       "<table border=\"1\" class=\"dataframe\">\n",
       "  <thead>\n",
       "    <tr style=\"text-align: right;\">\n",
       "      <th></th>\n",
       "      <th>date1</th>\n",
       "      <th>date2</th>\n",
       "      <th>CCFI</th>\n",
       "      <th>SCFI</th>\n",
       "      <th>date</th>\n",
       "    </tr>\n",
       "  </thead>\n",
       "  <tbody>\n",
       "    <tr>\n",
       "      <th>0</th>\n",
       "      <td>2014년</td>\n",
       "      <td>01월 02일</td>\n",
       "      <td>1098.37</td>\n",
       "      <td>1176.12</td>\n",
       "      <td>2014년 01월 02일</td>\n",
       "    </tr>\n",
       "    <tr>\n",
       "      <th>1</th>\n",
       "      <td>2014년</td>\n",
       "      <td>01월 09일</td>\n",
       "      <td>1115.55</td>\n",
       "      <td>1167.53</td>\n",
       "      <td>2014년 01월 09일</td>\n",
       "    </tr>\n",
       "    <tr>\n",
       "      <th>2</th>\n",
       "      <td>2014년</td>\n",
       "      <td>01월 16일</td>\n",
       "      <td>1128.73</td>\n",
       "      <td>1188.44</td>\n",
       "      <td>2014년 01월 16일</td>\n",
       "    </tr>\n",
       "    <tr>\n",
       "      <th>3</th>\n",
       "      <td>2014년</td>\n",
       "      <td>01월 23일</td>\n",
       "      <td>1148.37</td>\n",
       "      <td>1173.99</td>\n",
       "      <td>2014년 01월 23일</td>\n",
       "    </tr>\n",
       "    <tr>\n",
       "      <th>4</th>\n",
       "      <td>2014년</td>\n",
       "      <td>01월 30일</td>\n",
       "      <td>1158.16</td>\n",
       "      <td>1168.25</td>\n",
       "      <td>2014년 01월 30일</td>\n",
       "    </tr>\n",
       "    <tr>\n",
       "      <th>...</th>\n",
       "      <td>...</td>\n",
       "      <td>...</td>\n",
       "      <td>...</td>\n",
       "      <td>...</td>\n",
       "      <td>...</td>\n",
       "    </tr>\n",
       "    <tr>\n",
       "      <th>385</th>\n",
       "      <td>2021년</td>\n",
       "      <td>07월 23일</td>\n",
       "      <td>2854.02</td>\n",
       "      <td>4100</td>\n",
       "      <td>2021년 07월 23일</td>\n",
       "    </tr>\n",
       "    <tr>\n",
       "      <th>386</th>\n",
       "      <td>2021년</td>\n",
       "      <td>07월 30일</td>\n",
       "      <td>2930.03</td>\n",
       "      <td>4196.24</td>\n",
       "      <td>2021년 07월 30일</td>\n",
       "    </tr>\n",
       "    <tr>\n",
       "      <th>387</th>\n",
       "      <td>2021년</td>\n",
       "      <td>08월 06일</td>\n",
       "      <td>3006.82</td>\n",
       "      <td>4225.86</td>\n",
       "      <td>2021년 08월 06일</td>\n",
       "    </tr>\n",
       "    <tr>\n",
       "      <th>388</th>\n",
       "      <td>2021년</td>\n",
       "      <td>08월 13일</td>\n",
       "      <td>2978.47</td>\n",
       "      <td>4281.53</td>\n",
       "      <td>2021년 08월 13일</td>\n",
       "    </tr>\n",
       "    <tr>\n",
       "      <th>389</th>\n",
       "      <td>2021년</td>\n",
       "      <td>08월 20일</td>\n",
       "      <td>3047.32</td>\n",
       "      <td>4340.18</td>\n",
       "      <td>2021년 08월 20일</td>\n",
       "    </tr>\n",
       "  </tbody>\n",
       "</table>\n",
       "<p>390 rows × 5 columns</p>\n",
       "</div>"
      ],
      "text/plain": [
       "     date1    date2     CCFI     SCFI           date\n",
       "0    2014년  01월 02일  1098.37  1176.12  2014년 01월 02일\n",
       "1    2014년  01월 09일  1115.55  1167.53  2014년 01월 09일\n",
       "2    2014년  01월 16일  1128.73  1188.44  2014년 01월 16일\n",
       "3    2014년  01월 23일  1148.37  1173.99  2014년 01월 23일\n",
       "4    2014년  01월 30일  1158.16  1168.25  2014년 01월 30일\n",
       "..     ...      ...      ...      ...            ...\n",
       "385  2021년  07월 23일  2854.02     4100  2021년 07월 23일\n",
       "386  2021년  07월 30일  2930.03  4196.24  2021년 07월 30일\n",
       "387  2021년  08월 06일  3006.82  4225.86  2021년 08월 06일\n",
       "388  2021년  08월 13일  2978.47  4281.53  2021년 08월 13일\n",
       "389  2021년  08월 20일  3047.32  4340.18  2021년 08월 20일\n",
       "\n",
       "[390 rows x 5 columns]"
      ]
     },
     "execution_count": 11,
     "metadata": {},
     "output_type": "execute_result"
    }
   ],
   "source": [
    "scfi['date'] = scfi['date1'] + \" \" + scfi['date2']\n",
    "scfi"
   ]
  },
  {
   "cell_type": "code",
   "execution_count": 12,
   "metadata": {},
   "outputs": [
    {
     "data": {
      "text/html": [
       "<div>\n",
       "<style scoped>\n",
       "    .dataframe tbody tr th:only-of-type {\n",
       "        vertical-align: middle;\n",
       "    }\n",
       "\n",
       "    .dataframe tbody tr th {\n",
       "        vertical-align: top;\n",
       "    }\n",
       "\n",
       "    .dataframe thead th {\n",
       "        text-align: right;\n",
       "    }\n",
       "</style>\n",
       "<table border=\"1\" class=\"dataframe\">\n",
       "  <thead>\n",
       "    <tr style=\"text-align: right;\">\n",
       "      <th></th>\n",
       "      <th>date</th>\n",
       "      <th>SCFI</th>\n",
       "    </tr>\n",
       "  </thead>\n",
       "  <tbody>\n",
       "    <tr>\n",
       "      <th>0</th>\n",
       "      <td>2014년 01월 02일</td>\n",
       "      <td>1176.12</td>\n",
       "    </tr>\n",
       "    <tr>\n",
       "      <th>1</th>\n",
       "      <td>2014년 01월 09일</td>\n",
       "      <td>1167.53</td>\n",
       "    </tr>\n",
       "    <tr>\n",
       "      <th>2</th>\n",
       "      <td>2014년 01월 16일</td>\n",
       "      <td>1188.44</td>\n",
       "    </tr>\n",
       "    <tr>\n",
       "      <th>3</th>\n",
       "      <td>2014년 01월 23일</td>\n",
       "      <td>1173.99</td>\n",
       "    </tr>\n",
       "    <tr>\n",
       "      <th>4</th>\n",
       "      <td>2014년 01월 30일</td>\n",
       "      <td>1168.25</td>\n",
       "    </tr>\n",
       "    <tr>\n",
       "      <th>...</th>\n",
       "      <td>...</td>\n",
       "      <td>...</td>\n",
       "    </tr>\n",
       "    <tr>\n",
       "      <th>385</th>\n",
       "      <td>2021년 07월 23일</td>\n",
       "      <td>4100</td>\n",
       "    </tr>\n",
       "    <tr>\n",
       "      <th>386</th>\n",
       "      <td>2021년 07월 30일</td>\n",
       "      <td>4196.24</td>\n",
       "    </tr>\n",
       "    <tr>\n",
       "      <th>387</th>\n",
       "      <td>2021년 08월 06일</td>\n",
       "      <td>4225.86</td>\n",
       "    </tr>\n",
       "    <tr>\n",
       "      <th>388</th>\n",
       "      <td>2021년 08월 13일</td>\n",
       "      <td>4281.53</td>\n",
       "    </tr>\n",
       "    <tr>\n",
       "      <th>389</th>\n",
       "      <td>2021년 08월 20일</td>\n",
       "      <td>4340.18</td>\n",
       "    </tr>\n",
       "  </tbody>\n",
       "</table>\n",
       "<p>390 rows × 2 columns</p>\n",
       "</div>"
      ],
      "text/plain": [
       "              date     SCFI\n",
       "0    2014년 01월 02일  1176.12\n",
       "1    2014년 01월 09일  1167.53\n",
       "2    2014년 01월 16일  1188.44\n",
       "3    2014년 01월 23일  1173.99\n",
       "4    2014년 01월 30일  1168.25\n",
       "..             ...      ...\n",
       "385  2021년 07월 23일     4100\n",
       "386  2021년 07월 30일  4196.24\n",
       "387  2021년 08월 06일  4225.86\n",
       "388  2021년 08월 13일  4281.53\n",
       "389  2021년 08월 20일  4340.18\n",
       "\n",
       "[390 rows x 2 columns]"
      ]
     },
     "execution_count": 12,
     "metadata": {},
     "output_type": "execute_result"
    }
   ],
   "source": [
    "scfi = scfi[['date', 'SCFI']]\n",
    "scfi"
   ]
  },
  {
   "cell_type": "code",
   "execution_count": 13,
   "metadata": {},
   "outputs": [
    {
     "name": "stderr",
     "output_type": "stream",
     "text": [
      "C:\\Users\\adore\\anaconda3\\lib\\site-packages\\ipykernel_launcher.py:1: SettingWithCopyWarning: \n",
      "A value is trying to be set on a copy of a slice from a DataFrame.\n",
      "Try using .loc[row_indexer,col_indexer] = value instead\n",
      "\n",
      "See the caveats in the documentation: https://pandas.pydata.org/pandas-docs/stable/user_guide/indexing.html#returning-a-view-versus-a-copy\n",
      "  \"\"\"Entry point for launching an IPython kernel.\n"
     ]
    }
   ],
   "source": [
    "scfi['SCFI'] = pd.to_numeric(scfi['SCFI'])"
   ]
  },
  {
   "cell_type": "code",
   "execution_count": 14,
   "metadata": {},
   "outputs": [
    {
     "name": "stdout",
     "output_type": "stream",
     "text": [
      "<class 'pandas.core.frame.DataFrame'>\n",
      "RangeIndex: 390 entries, 0 to 389\n",
      "Data columns (total 2 columns):\n",
      " #   Column  Non-Null Count  Dtype  \n",
      "---  ------  --------------  -----  \n",
      " 0   date    390 non-null    object \n",
      " 1   SCFI    390 non-null    float64\n",
      "dtypes: float64(1), object(1)\n",
      "memory usage: 6.2+ KB\n"
     ]
    }
   ],
   "source": [
    "scfi.info()"
   ]
  },
  {
   "cell_type": "code",
   "execution_count": 15,
   "metadata": {},
   "outputs": [
    {
     "data": {
      "text/html": [
       "<div>\n",
       "<style scoped>\n",
       "    .dataframe tbody tr th:only-of-type {\n",
       "        vertical-align: middle;\n",
       "    }\n",
       "\n",
       "    .dataframe tbody tr th {\n",
       "        vertical-align: top;\n",
       "    }\n",
       "\n",
       "    .dataframe thead th {\n",
       "        text-align: right;\n",
       "    }\n",
       "</style>\n",
       "<table border=\"1\" class=\"dataframe\">\n",
       "  <thead>\n",
       "    <tr style=\"text-align: right;\">\n",
       "      <th></th>\n",
       "      <th>SCFI</th>\n",
       "    </tr>\n",
       "  </thead>\n",
       "  <tbody>\n",
       "    <tr>\n",
       "      <th>count</th>\n",
       "      <td>390.000000</td>\n",
       "    </tr>\n",
       "    <tr>\n",
       "      <th>mean</th>\n",
       "      <td>1088.947385</td>\n",
       "    </tr>\n",
       "    <tr>\n",
       "      <th>std</th>\n",
       "      <td>746.827485</td>\n",
       "    </tr>\n",
       "    <tr>\n",
       "      <th>min</th>\n",
       "      <td>400.430000</td>\n",
       "    </tr>\n",
       "    <tr>\n",
       "      <th>25%</th>\n",
       "      <td>758.857500</td>\n",
       "    </tr>\n",
       "    <tr>\n",
       "      <th>50%</th>\n",
       "      <td>856.835000</td>\n",
       "    </tr>\n",
       "    <tr>\n",
       "      <th>75%</th>\n",
       "      <td>1053.277500</td>\n",
       "    </tr>\n",
       "    <tr>\n",
       "      <th>max</th>\n",
       "      <td>4340.180000</td>\n",
       "    </tr>\n",
       "  </tbody>\n",
       "</table>\n",
       "</div>"
      ],
      "text/plain": [
       "              SCFI\n",
       "count   390.000000\n",
       "mean   1088.947385\n",
       "std     746.827485\n",
       "min     400.430000\n",
       "25%     758.857500\n",
       "50%     856.835000\n",
       "75%    1053.277500\n",
       "max    4340.180000"
      ]
     },
     "execution_count": 15,
     "metadata": {},
     "output_type": "execute_result"
    }
   ],
   "source": [
    "scfi.describe()"
   ]
  },
  {
   "cell_type": "code",
   "execution_count": 16,
   "metadata": {},
   "outputs": [
    {
     "data": {
      "text/plain": [
       "{'whiskers': [<matplotlib.lines.Line2D at 0x175aaad6808>,\n",
       "  <matplotlib.lines.Line2D at 0x175aaaebb88>],\n",
       " 'caps': [<matplotlib.lines.Line2D at 0x175aaafab08>,\n",
       "  <matplotlib.lines.Line2D at 0x175aaafaf88>],\n",
       " 'boxes': [<matplotlib.lines.Line2D at 0x175aaadcc48>],\n",
       " 'medians': [<matplotlib.lines.Line2D at 0x175aaafaec8>],\n",
       " 'fliers': [<matplotlib.lines.Line2D at 0x175aab00d88>],\n",
       " 'means': []}"
      ]
     },
     "execution_count": 16,
     "metadata": {},
     "output_type": "execute_result"
    },
    {
     "data": {
      "image/png": "[encoded data removed]",
      "text/plain": [
       "<Figure size 432x288 with 1 Axes>"
      ]
     },
     "metadata": {
      "needs_background": "light"
     },
     "output_type": "display_data"
    }
   ],
   "source": [
    "plt.boxplot(scfi['SCFI'])"
   ]
  },
  {
   "cell_type": "code",
   "execution_count": 17,
   "metadata": {},
   "outputs": [
    {
     "data": {
      "text/plain": [
       "<matplotlib.axes._subplots.AxesSubplot at 0x175aab3fc88>"
      ]
     },
     "execution_count": 17,
     "metadata": {},
     "output_type": "execute_result"
    },
    {
     "data": {
      "image/png": "[encoded data removed]",
      "text/plain": [
       "<Figure size 432x288 with 1 Axes>"
      ]
     },
     "metadata": {
      "needs_background": "light"
     },
     "output_type": "display_data"
    }
   ],
   "source": [
    "sns.distplot(scfi['SCFI'])"
   ]
  },
  {
   "cell_type": "code",
   "execution_count": 18,
   "metadata": {},
   "outputs": [
    {
     "data": {
      "image/png": "[encoded data removed]",
      "text/plain": [
       "<Figure size 432x288 with 1 Axes>"
      ]
     },
     "metadata": {
      "needs_background": "light"
     },
     "output_type": "display_data"
    }
   ],
   "source": [
    "plt.hist(scfi['SCFI'], bins=100)\n",
    "plt.show()"
   ]
  },
  {
   "cell_type": "code",
   "execution_count": 19,
   "metadata": {},
   "outputs": [
    {
     "data": {
      "text/plain": [
       "2.6954609328713106"
      ]
     },
     "execution_count": 19,
     "metadata": {},
     "output_type": "execute_result"
    }
   ],
   "source": [
    "scfi['SCFI'].skew()"
   ]
  },
  {
   "cell_type": "code",
   "execution_count": 20,
   "metadata": {},
   "outputs": [
    {
     "data": {
      "text/plain": [
       "6.78241552283404"
      ]
     },
     "execution_count": 20,
     "metadata": {},
     "output_type": "execute_result"
    }
   ],
   "source": [
    "scfi['SCFI'].kurt()"
   ]
  },
  {
   "cell_type": "code",
   "execution_count": 21,
   "metadata": {},
   "outputs": [
    {
     "name": "stderr",
     "output_type": "stream",
     "text": [
      "C:\\Users\\adore\\anaconda3\\lib\\site-packages\\ipykernel_launcher.py:1: SettingWithCopyWarning: \n",
      "A value is trying to be set on a copy of a slice from a DataFrame.\n",
      "Try using .loc[row_indexer,col_indexer] = value instead\n",
      "\n",
      "See the caveats in the documentation: https://pandas.pydata.org/pandas-docs/stable/user_guide/indexing.html#returning-a-view-versus-a-copy\n",
      "  \"\"\"Entry point for launching an IPython kernel.\n"
     ]
    }
   ],
   "source": [
    "scfi['SCFI_boxcox'] = preprocessing.scale(boxcox(scfi['SCFI']+1)[0])"
   ]
  },
  {
   "cell_type": "code",
   "execution_count": 22,
   "metadata": {},
   "outputs": [
    {
     "data": {
      "text/html": [
       "<div>\n",
       "<style scoped>\n",
       "    .dataframe tbody tr th:only-of-type {\n",
       "        vertical-align: middle;\n",
       "    }\n",
       "\n",
       "    .dataframe tbody tr th {\n",
       "        vertical-align: top;\n",
       "    }\n",
       "\n",
       "    .dataframe thead th {\n",
       "        text-align: right;\n",
       "    }\n",
       "</style>\n",
       "<table border=\"1\" class=\"dataframe\">\n",
       "  <thead>\n",
       "    <tr style=\"text-align: right;\">\n",
       "      <th></th>\n",
       "      <th>date</th>\n",
       "      <th>SCFI</th>\n",
       "      <th>SCFI_boxcox</th>\n",
       "    </tr>\n",
       "  </thead>\n",
       "  <tbody>\n",
       "    <tr>\n",
       "      <th>0</th>\n",
       "      <td>2014년 01월 02일</td>\n",
       "      <td>1176.12</td>\n",
       "      <td>0.730093</td>\n",
       "    </tr>\n",
       "    <tr>\n",
       "      <th>1</th>\n",
       "      <td>2014년 01월 09일</td>\n",
       "      <td>1167.53</td>\n",
       "      <td>0.714697</td>\n",
       "    </tr>\n",
       "    <tr>\n",
       "      <th>2</th>\n",
       "      <td>2014년 01월 16일</td>\n",
       "      <td>1188.44</td>\n",
       "      <td>0.751784</td>\n",
       "    </tr>\n",
       "    <tr>\n",
       "      <th>3</th>\n",
       "      <td>2014년 01월 23일</td>\n",
       "      <td>1173.99</td>\n",
       "      <td>0.726296</td>\n",
       "    </tr>\n",
       "    <tr>\n",
       "      <th>4</th>\n",
       "      <td>2014년 01월 30일</td>\n",
       "      <td>1168.25</td>\n",
       "      <td>0.715996</td>\n",
       "    </tr>\n",
       "    <tr>\n",
       "      <th>...</th>\n",
       "      <td>...</td>\n",
       "      <td>...</td>\n",
       "      <td>...</td>\n",
       "    </tr>\n",
       "    <tr>\n",
       "      <th>385</th>\n",
       "      <td>2021년 07월 23일</td>\n",
       "      <td>4100.00</td>\n",
       "      <td>2.211776</td>\n",
       "    </tr>\n",
       "    <tr>\n",
       "      <th>386</th>\n",
       "      <td>2021년 07월 30일</td>\n",
       "      <td>4196.24</td>\n",
       "      <td>2.225292</td>\n",
       "    </tr>\n",
       "    <tr>\n",
       "      <th>387</th>\n",
       "      <td>2021년 08월 06일</td>\n",
       "      <td>4225.86</td>\n",
       "      <td>2.229327</td>\n",
       "    </tr>\n",
       "    <tr>\n",
       "      <th>388</th>\n",
       "      <td>2021년 08월 13일</td>\n",
       "      <td>4281.53</td>\n",
       "      <td>2.236758</td>\n",
       "    </tr>\n",
       "    <tr>\n",
       "      <th>389</th>\n",
       "      <td>2021년 08월 20일</td>\n",
       "      <td>4340.18</td>\n",
       "      <td>2.244380</td>\n",
       "    </tr>\n",
       "  </tbody>\n",
       "</table>\n",
       "<p>390 rows × 3 columns</p>\n",
       "</div>"
      ],
      "text/plain": [
       "              date     SCFI  SCFI_boxcox\n",
       "0    2014년 01월 02일  1176.12     0.730093\n",
       "1    2014년 01월 09일  1167.53     0.714697\n",
       "2    2014년 01월 16일  1188.44     0.751784\n",
       "3    2014년 01월 23일  1173.99     0.726296\n",
       "4    2014년 01월 30일  1168.25     0.715996\n",
       "..             ...      ...          ...\n",
       "385  2021년 07월 23일  4100.00     2.211776\n",
       "386  2021년 07월 30일  4196.24     2.225292\n",
       "387  2021년 08월 06일  4225.86     2.229327\n",
       "388  2021년 08월 13일  4281.53     2.236758\n",
       "389  2021년 08월 20일  4340.18     2.244380\n",
       "\n",
       "[390 rows x 3 columns]"
      ]
     },
     "execution_count": 22,
     "metadata": {},
     "output_type": "execute_result"
    }
   ],
   "source": [
    "scfi"
   ]
  },
  {
   "cell_type": "code",
   "execution_count": 23,
   "metadata": {},
   "outputs": [
    {
     "data": {
      "text/plain": [
       "-0.05580981135126101"
      ]
     },
     "execution_count": 23,
     "metadata": {},
     "output_type": "execute_result"
    }
   ],
   "source": [
    "scfi['SCFI_boxcox'].skew()"
   ]
  },
  {
   "cell_type": "code",
   "execution_count": 24,
   "metadata": {},
   "outputs": [
    {
     "data": {
      "text/plain": [
       "{'whiskers': [<matplotlib.lines.Line2D at 0x175aae19e48>,\n",
       "  <matplotlib.lines.Line2D at 0x175aae19f48>],\n",
       " 'caps': [<matplotlib.lines.Line2D at 0x175aae1de08>,\n",
       "  <matplotlib.lines.Line2D at 0x175aae1df08>],\n",
       " 'boxes': [<matplotlib.lines.Line2D at 0x175aae19608>],\n",
       " 'medians': [<matplotlib.lines.Line2D at 0x175aae22d88>],\n",
       " 'fliers': [<matplotlib.lines.Line2D at 0x175aae22e88>],\n",
       " 'means': []}"
      ]
     },
     "execution_count": 24,
     "metadata": {},
     "output_type": "execute_result"
    },
    {
     "data": {
      "image/png": "[encoded data removed]",
      "text/plain": [
       "<Figure size 432x288 with 1 Axes>"
      ]
     },
     "metadata": {
      "needs_background": "light"
     },
     "output_type": "display_data"
    }
   ],
   "source": [
    "plt.boxplot(scfi['SCFI'])"
   ]
  },
  {
   "cell_type": "code",
   "execution_count": 25,
   "metadata": {},
   "outputs": [
    {
     "data": {
      "text/plain": [
       "<matplotlib.axes._subplots.AxesSubplot at 0x175aae545c8>"
      ]
     },
     "execution_count": 25,
     "metadata": {},
     "output_type": "execute_result"
    },
    {
     "data": {
      "image/png": "[encoded data removed]",
      "text/plain": [
       "<Figure size 432x288 with 1 Axes>"
      ]
     },
     "metadata": {
      "needs_background": "light"
     },
     "output_type": "display_data"
    }
   ],
   "source": [
    "sns.distplot(scfi['SCFI_boxcox'])"
   ]
  },
  {
   "cell_type": "code",
   "execution_count": 26,
   "metadata": {},
   "outputs": [
    {
     "name": "stderr",
     "output_type": "stream",
     "text": [
      "C:\\Users\\adore\\anaconda3\\lib\\site-packages\\ipykernel_launcher.py:1: SettingWithCopyWarning: \n",
      "A value is trying to be set on a copy of a slice from a DataFrame.\n",
      "Try using .loc[row_indexer,col_indexer] = value instead\n",
      "\n",
      "See the caveats in the documentation: https://pandas.pydata.org/pandas-docs/stable/user_guide/indexing.html#returning-a-view-versus-a-copy\n",
      "  \"\"\"Entry point for launching an IPython kernel.\n"
     ]
    }
   ],
   "source": [
    "scfi['SCFI_log'] = np.log(scfi['SCFI'])"
   ]
  },
  {
   "cell_type": "code",
   "execution_count": 27,
   "metadata": {},
   "outputs": [
    {
     "data": {
      "text/plain": [
       "{'whiskers': [<matplotlib.lines.Line2D at 0x175aaf35cc8>,\n",
       "  <matplotlib.lines.Line2D at 0x175aaf35dc8>],\n",
       " 'caps': [<matplotlib.lines.Line2D at 0x175aaf3bc88>,\n",
       "  <matplotlib.lines.Line2D at 0x175aaf3bd88>],\n",
       " 'boxes': [<matplotlib.lines.Line2D at 0x175aaf35448>],\n",
       " 'medians': [<matplotlib.lines.Line2D at 0x175aaf3dc08>],\n",
       " 'fliers': [<matplotlib.lines.Line2D at 0x175aaf3dd08>],\n",
       " 'means': []}"
      ]
     },
     "execution_count": 27,
     "metadata": {},
     "output_type": "execute_result"
    },
    {
     "data": {
      "image/png": "[encoded data removed]",
      "text/plain": [
       "<Figure size 432x288 with 1 Axes>"
      ]
     },
     "metadata": {
      "needs_background": "light"
     },
     "output_type": "display_data"
    }
   ],
   "source": [
    "plt.boxplot(scfi['SCFI_log'])"
   ]
  },
  {
   "cell_type": "code",
   "execution_count": 28,
   "metadata": {},
   "outputs": [
    {
     "data": {
      "text/plain": [
       "1.5729890349983608"
      ]
     },
     "execution_count": 28,
     "metadata": {},
     "output_type": "execute_result"
    }
   ],
   "source": [
    "scfi['SCFI_log'].skew()"
   ]
  },
  {
   "cell_type": "code",
   "execution_count": 29,
   "metadata": {},
   "outputs": [],
   "source": [
    "scfi['SCFI_scale'] = preprocessing.scale(scfi['SCFI'])"
   ]
  },
  {
   "cell_type": "code",
   "execution_count": 30,
   "metadata": {},
   "outputs": [
    {
     "data": {
      "text/plain": [
       "2.695460932871309"
      ]
     },
     "execution_count": 30,
     "metadata": {},
     "output_type": "execute_result"
    }
   ],
   "source": [
    "scfi['SCFI_scale'].skew()"
   ]
  },
  {
   "cell_type": "code",
   "execution_count": 31,
   "metadata": {},
   "outputs": [],
   "source": [
    "scfi = scfi[['date', 'SCFI', 'SCFI_boxcox']]"
   ]
  },
  {
   "cell_type": "code",
   "execution_count": 32,
   "metadata": {},
   "outputs": [],
   "source": [
    "scfi.to_csv(\"scfi.csv\")"
   ]
  },
  {
   "cell_type": "code",
   "execution_count": null,
   "metadata": {},
   "outputs": [],
   "source": []
  }
 ],
 "metadata": {
  "kernelspec": {
   "display_name": "Python 3",
   "language": "python",
   "name": "python3"
  },
  "language_info": {
   "codemirror_mode": {
    "name": "ipython",
    "version": 3
   },
   "file_extension": ".py",
   "mimetype": "text/x-python",
   "name": "python",
   "nbconvert_exporter": "python",
   "pygments_lexer": "ipython3",
   "version": "3.7.6"
  }
 },
 "nbformat": 4,
 "nbformat_minor": 4
}
